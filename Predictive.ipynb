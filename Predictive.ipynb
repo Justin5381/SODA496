{
 "cells": [
  {
   "cell_type": "code",
   "execution_count": 1,
   "id": "830962e8",
   "metadata": {},
   "outputs": [],
   "source": [
    "import pandas as pd\n",
    "import numpy as np\n",
    "from sklearn.linear_model import LogisticRegression\n",
    "from sklearn.model_selection import train_test_split"
   ]
  },
  {
   "cell_type": "code",
   "execution_count": 2,
   "id": "9a75fe23",
   "metadata": {},
   "outputs": [
    {
     "data": {
      "text/html": [
       "<div>\n",
       "<style scoped>\n",
       "    .dataframe tbody tr th:only-of-type {\n",
       "        vertical-align: middle;\n",
       "    }\n",
       "\n",
       "    .dataframe tbody tr th {\n",
       "        vertical-align: top;\n",
       "    }\n",
       "\n",
       "    .dataframe thead th {\n",
       "        text-align: right;\n",
       "    }\n",
       "</style>\n",
       "<table border=\"1\" class=\"dataframe\">\n",
       "  <thead>\n",
       "    <tr style=\"text-align: right;\">\n",
       "      <th></th>\n",
       "      <th>State</th>\n",
       "      <th>Households with computer (including smartphone) Percent</th>\n",
       "      <th>Households with internet access. Percent</th>\n",
       "      <th>Poverty(2-year average)</th>\n",
       "      <th>3-year average</th>\n",
       "    </tr>\n",
       "  </thead>\n",
       "  <tbody>\n",
       "    <tr>\n",
       "      <th>0</th>\n",
       "      <td>United States ................................</td>\n",
       "      <td>89.269535</td>\n",
       "      <td>81.864155</td>\n",
       "      <td>13.1</td>\n",
       "      <td>13.7</td>\n",
       "    </tr>\n",
       "    <tr>\n",
       "      <th>1</th>\n",
       "      <td>Alabama .........................................</td>\n",
       "      <td>83.909992</td>\n",
       "      <td>75.284830</td>\n",
       "      <td>16.3</td>\n",
       "      <td>16.8</td>\n",
       "    </tr>\n",
       "    <tr>\n",
       "      <th>2</th>\n",
       "      <td>Alaska ..........................................</td>\n",
       "      <td>94.433488</td>\n",
       "      <td>86.695671</td>\n",
       "      <td>10.9</td>\n",
       "      <td>11.2</td>\n",
       "    </tr>\n",
       "    <tr>\n",
       "      <th>3</th>\n",
       "      <td>Arizona .........................................</td>\n",
       "      <td>91.044885</td>\n",
       "      <td>83.804423</td>\n",
       "      <td>16.6</td>\n",
       "      <td>18.2</td>\n",
       "    </tr>\n",
       "    <tr>\n",
       "      <th>4</th>\n",
       "      <td>Arkansas ........................................</td>\n",
       "      <td>84.479373</td>\n",
       "      <td>71.134348</td>\n",
       "      <td>16.1</td>\n",
       "      <td>16.8</td>\n",
       "    </tr>\n",
       "  </tbody>\n",
       "</table>\n",
       "</div>"
      ],
      "text/plain": [
       "                                               State  \\\n",
       "0     United States ................................   \n",
       "1  Alabama .........................................   \n",
       "2  Alaska ..........................................   \n",
       "3  Arizona .........................................   \n",
       "4  Arkansas ........................................   \n",
       "\n",
       "   Households with computer (including smartphone) Percent  \\\n",
       "0                                          89.269535         \n",
       "1                                          83.909992         \n",
       "2                                          94.433488         \n",
       "3                                          91.044885         \n",
       "4                                          84.479373         \n",
       "\n",
       "   Households with internet access. Percent  Poverty(2-year average)  \\\n",
       "0                                 81.864155                     13.1   \n",
       "1                                 75.284830                     16.3   \n",
       "2                                 86.695671                     10.9   \n",
       "3                                 83.804423                     16.6   \n",
       "4                                 71.134348                     16.1   \n",
       "\n",
       "   3-year average  \n",
       "0            13.7  \n",
       "1            16.8  \n",
       "2            11.2  \n",
       "3            18.2  \n",
       "4            16.8  "
      ]
     },
     "execution_count": 2,
     "metadata": {},
     "output_type": "execute_result"
    }
   ],
   "source": [
    "inter16 = pd.read_excel('/Users/justin/Desktop/soda data/inter16.xlsx')\n",
    "inter16.head()"
   ]
  },
  {
   "cell_type": "code",
   "execution_count": 3,
   "id": "d676b9f1",
   "metadata": {},
   "outputs": [
    {
     "data": {
      "text/html": [
       "<div>\n",
       "<style scoped>\n",
       "    .dataframe tbody tr th:only-of-type {\n",
       "        vertical-align: middle;\n",
       "    }\n",
       "\n",
       "    .dataframe tbody tr th {\n",
       "        vertical-align: top;\n",
       "    }\n",
       "\n",
       "    .dataframe thead th {\n",
       "        text-align: right;\n",
       "    }\n",
       "</style>\n",
       "<table border=\"1\" class=\"dataframe\">\n",
       "  <thead>\n",
       "    <tr style=\"text-align: right;\">\n",
       "      <th></th>\n",
       "      <th>State</th>\n",
       "      <th>Percent registered\\n(Total)</th>\n",
       "      <th>Percent voted\\n(Total)</th>\n",
       "      <th>Turnout</th>\n",
       "      <th>Label (&gt;mean 0.872)</th>\n",
       "    </tr>\n",
       "  </thead>\n",
       "  <tbody>\n",
       "    <tr>\n",
       "      <th>0</th>\n",
       "      <td>UNITED STATES</td>\n",
       "      <td>64.1935</td>\n",
       "      <td>56.0226</td>\n",
       "      <td>0.872715</td>\n",
       "      <td>1</td>\n",
       "    </tr>\n",
       "    <tr>\n",
       "      <th>1</th>\n",
       "      <td>ALABAMA</td>\n",
       "      <td>67.9617</td>\n",
       "      <td>56.3712</td>\n",
       "      <td>0.829455</td>\n",
       "      <td>0</td>\n",
       "    </tr>\n",
       "    <tr>\n",
       "      <th>2</th>\n",
       "      <td>ALASKA</td>\n",
       "      <td>69.0653</td>\n",
       "      <td>59.4061</td>\n",
       "      <td>0.860144</td>\n",
       "      <td>1</td>\n",
       "    </tr>\n",
       "    <tr>\n",
       "      <th>3</th>\n",
       "      <td>ARIZONA</td>\n",
       "      <td>60.5332</td>\n",
       "      <td>53.2880</td>\n",
       "      <td>0.880310</td>\n",
       "      <td>1</td>\n",
       "    </tr>\n",
       "    <tr>\n",
       "      <th>4</th>\n",
       "      <td>ARKANSAS</td>\n",
       "      <td>65.6858</td>\n",
       "      <td>56.0106</td>\n",
       "      <td>0.852705</td>\n",
       "      <td>0</td>\n",
       "    </tr>\n",
       "  </tbody>\n",
       "</table>\n",
       "</div>"
      ],
      "text/plain": [
       "           State  Percent registered\\n(Total)  Percent voted\\n(Total)  \\\n",
       "0  UNITED STATES                      64.1935                 56.0226   \n",
       "1        ALABAMA                      67.9617                 56.3712   \n",
       "2         ALASKA                      69.0653                 59.4061   \n",
       "3        ARIZONA                      60.5332                 53.2880   \n",
       "4       ARKANSAS                      65.6858                 56.0106   \n",
       "\n",
       "    Turnout  Label (>mean 0.872)  \n",
       "0  0.872715                    1  \n",
       "1  0.829455                    0  \n",
       "2  0.860144                    1  \n",
       "3  0.880310                    1  \n",
       "4  0.852705                    0  "
      ]
     },
     "execution_count": 3,
     "metadata": {},
     "output_type": "execute_result"
    }
   ],
   "source": [
    "voter16= pd.read_excel('/Users/justin/Desktop/soda data/voter16.xlsx')\n",
    "voter16.head()"
   ]
  },
  {
   "cell_type": "code",
   "execution_count": 4,
   "id": "57e5c3c5",
   "metadata": {},
   "outputs": [],
   "source": [
    "# dummy variables for State\n",
    "inter16 = pd.get_dummies(inter16, columns = ['State'])\n",
    "voter16 = pd.get_dummies(voter16, columns = ['State'])"
   ]
  },
  {
   "cell_type": "code",
   "execution_count": 5,
   "id": "ac12a0ee",
   "metadata": {},
   "outputs": [
    {
     "name": "stdout",
     "output_type": "stream",
     "text": [
      "0.5625\n",
      "0.75\n"
     ]
    }
   ],
   "source": [
    "#Original Model\n",
    "y = voter16['Label (>mean 0.872)']\n",
    "X = inter16.iloc[:,1:]\n",
    "\n",
    "X_train, X_test, y_train, y_test = train_test_split(X, y, test_size = .3, random_state = 1)\n",
    "\n",
    "mod1 = LogisticRegression(random_state = 1, solver = 'liblinear').fit(X_train, y_train)\n",
    "\n",
    "# majority class classifier\n",
    "print(y_test.mean())\n",
    "print(mod1.score(X_test, y_test))"
   ]
  },
  {
   "cell_type": "code",
   "execution_count": 6,
   "id": "b79350c1",
   "metadata": {},
   "outputs": [
    {
     "name": "stdout",
     "output_type": "stream",
     "text": [
      "0.5625\n",
      "0.4375\n"
     ]
    }
   ],
   "source": [
    "#Refining measures\n",
    "inter = inter16.drop(labels = ['Poverty(2-year average)', '3-year average'], axis = 1)\n",
    "\n",
    "y = voter16['Label (>mean 0.872)']\n",
    "X = inter.iloc[:,1:]\n",
    "\n",
    "X_train, X_test, y_train, y_test = train_test_split(X, y, test_size = .3, random_state = 1)\n",
    "\n",
    "mod2= LogisticRegression(random_state = 1, solver = 'liblinear').fit(X_train, y_train)\n",
    "print(y_test.mean())\n",
    "print(mod2.score(X_test, y_test))"
   ]
  },
  {
   "cell_type": "code",
   "execution_count": 7,
   "id": "d41ea583",
   "metadata": {},
   "outputs": [
    {
     "name": "stdout",
     "output_type": "stream",
     "text": [
      "0.5625\n",
      "0.625\n"
     ]
    }
   ],
   "source": [
    "\n",
    "pov = inter16.drop(labels = ['Households with computer (including smartphone) Percent', 'Households with internet access. Percent'], axis = 1)\n",
    "\n",
    "y = voter16['Label (>mean 0.872)']\n",
    "X = pov.iloc[:,1:]\n",
    "\n",
    "X_train, X_test, y_train, y_test = train_test_split(X, y, test_size = .3, random_state = 1)\n",
    "\n",
    "mod3= LogisticRegression(random_state = 1, solver = 'liblinear').fit(X_train, y_train)\n",
    "print(y_test.mean())\n",
    "print(mod3.score(X_test, y_test))"
   ]
  },
  {
   "cell_type": "code",
   "execution_count": 8,
   "id": "5e79883a",
   "metadata": {},
   "outputs": [
    {
     "data": {
      "text/plain": [
       "{'Households with internet access. Percent': 0.001313778022224475,\n",
       " 'State_   United States ...................................': 0.4373843759008595,\n",
       " 'State_Alabama ...................................................': -0.36416447927330764,\n",
       " 'State_Alaska ...................................................': 0.0,\n",
       " 'State_Arizona ....................................................': 0.0,\n",
       " 'State_Arkansas ..................................................': -0.3637146240506014,\n",
       " 'State_California ........................................': 0.4369485094181237,\n",
       " 'State_Colorado ..................................................': 0.43678459004524656,\n",
       " 'State_Connecticut ............................................': 0.4370569315077251,\n",
       " 'State_Delaware ............................................................................': -0.36509363422043484,\n",
       " 'State_District of Columbia ................................................................................. . .': 0.4376667946184218,\n",
       " 'State_Florida ...........................................................': 0.0,\n",
       " 'State_Georgia ......................................................': -0.36479732468518455,\n",
       " 'State_Hawaii .......................................................': -0.3650913776418342,\n",
       " 'State_Idaho .............................................................................................': 0.43766621657391985,\n",
       " 'State_Illinois ..........................': -0.3649280781762957,\n",
       " 'State_Indiana ..............................................................................': -0.36466310264741286,\n",
       " 'State_Iowa .............................': 0.4374904565964554,\n",
       " 'State_Kansas ..............................................': -0.36476388259510556,\n",
       " 'State_Kentucky ..............................................................': -0.3644416315218646,\n",
       " 'State_Louisiana ...................................................': 0.0,\n",
       " 'State_Maine .........................................................': 0.43744925451252337,\n",
       " 'State_Maryland .............................................': 0.0,\n",
       " 'State_Massachusetts ......................................': 0.4369524112250237,\n",
       " 'State_Michigan ....................................................': -0.3647877809616805,\n",
       " 'State_Minnesota .............................................': 0.0,\n",
       " 'State_Mississippi ................................................': -0.36374068188342906,\n",
       " 'State_Missouri ...................................................': -0.3646685346938547,\n",
       " 'State_Montana ...................................................': 0.43764131517430044,\n",
       " 'State_Nebraska .............................................................................': 0.43734742510170754,\n",
       " 'State_Nevada ...............................................................................': -0.3648167890746712,\n",
       " 'State_New Hampshire ........................': 0.0,\n",
       " 'State_New Jersey ...........................': 0.0,\n",
       " 'State_New Mexico ................................................': 0.0,\n",
       " 'State_New York ................................................': 0.0,\n",
       " 'State_North Carolina ..........................................': 0.4376593843914195,\n",
       " 'State_North Dakota .........................................': -0.3648424336992117,\n",
       " 'State_Ohio ...................................................................': 0.43744115389151506,\n",
       " 'State_Oklahoma ..................................................': -0.36445543197804153,\n",
       " 'State_Oregon .....................................................': 0.0,\n",
       " 'State_Pennsylvania ...............................................': -0.3647791738182942,\n",
       " 'State_Rhode Island ..............................................': 0.0,\n",
       " 'State_South Carolina ............................................': -0.36438036813877966,\n",
       " 'State_South Dakota ............................................': 0.0,\n",
       " 'State_Tennessee ............................................': -0.3643563276423798,\n",
       " 'State_Texas ...............................................................': 0.0,\n",
       " 'State_Utah ...............................................................': 0.0,\n",
       " 'State_Vermont .........................................................': -0.3648878688731848,\n",
       " 'State_Virginia .........................................................': 0.4371262706519667,\n",
       " 'State_Washington ...........................................': 0.0,\n",
       " 'State_West Virginia ..............................................': -0.3641158562043536,\n",
       " 'State_Wisconsin ............................................': 0.43737114540442046,\n",
       " 'State_Wyoming .................................................': 0.4371790878311689}"
      ]
     },
     "execution_count": 8,
     "metadata": {},
     "output_type": "execute_result"
    }
   ],
   "source": [
    "dict(zip(mod2.feature_names_in_, mod2.coef_[0]))"
   ]
  },
  {
   "cell_type": "code",
   "execution_count": 9,
   "id": "93907d40",
   "metadata": {},
   "outputs": [
    {
     "data": {
      "text/plain": [
       "{'3-year average': -0.07853726002569071,\n",
       " 'State_   United States ...................................': 0.47451036075669845,\n",
       " 'State_Alabama ...................................................': -0.28817505236468216,\n",
       " 'State_Alaska ...................................................': 0.0,\n",
       " 'State_Arizona ....................................................': 0.0,\n",
       " 'State_Arkansas ..................................................': -0.28817505236468216,\n",
       " 'State_California ........................................': 0.48706482046429966,\n",
       " 'State_Colorado ..................................................': 0.4200527430617283,\n",
       " 'State_Connecticut ............................................': 0.4047300061743031,\n",
       " 'State_Delaware ............................................................................': -0.3673702435214871,\n",
       " 'State_District of Columbia ................................................................................. . .': 0.5310234908854692,\n",
       " 'State_Florida ...........................................................': 0.0,\n",
       " 'State_Georgia ......................................................': -0.28817505236468216,\n",
       " 'State_Hawaii .......................................................': -0.3807847070822991,\n",
       " 'State_Idaho .............................................................................................': 0.44637587898643377,\n",
       " 'State_Illinois ..........................': -0.35265915166511586,\n",
       " 'State_Indiana ..............................................................................': -0.3367367295817676,\n",
       " 'State_Iowa .............................': 0.41851444700633755,\n",
       " 'State_Kansas ..............................................': -0.34828862400834065,\n",
       " 'State_Kentucky ..............................................................': -0.26847386991738376,\n",
       " 'State_Louisiana ...................................................': 0.0,\n",
       " 'State_Maine .........................................................': 0.4666760437530657,\n",
       " 'State_Maryland .............................................': 0.0,\n",
       " 'State_Massachusetts ......................................': 0.441709516406948,\n",
       " 'State_Michigan ....................................................': -0.34249360473428875,\n",
       " 'State_Minnesota .............................................': 0.0,\n",
       " 'State_Mississippi ................................................': -0.23730370093542832,\n",
       " 'State_Missouri ...................................................': -0.36885288923573567,\n",
       " 'State_Montana ...................................................': 0.44637587898643377,\n",
       " 'State_Nebraska .............................................................................': 0.4262182106866642,\n",
       " 'State_Nevada ...............................................................................': -0.3353036184307296,\n",
       " 'State_New Hampshire ........................': 0.0,\n",
       " 'State_New Jersey ...........................': 0.0,\n",
       " 'State_New Mexico ................................................': 0.0,\n",
       " 'State_New York ................................................': 0.0,\n",
       " 'State_North Carolina ..........................................': 0.4996322079580514,\n",
       " 'State_North Dakota .........................................': -0.37779028044212,\n",
       " 'State_Ohio ...................................................................': 0.48392449572339524,\n",
       " 'State_Oklahoma ..................................................': -0.3071875914179702,\n",
       " 'State_Oregon .....................................................': 0.0,\n",
       " 'State_Pennsylvania ...............................................': -0.3555840865434796,\n",
       " 'State_Rhode Island ..............................................': 0.0,\n",
       " 'State_South Carolina ............................................': -0.31272423232758595,\n",
       " 'State_South Dakota ............................................': 0.0,\n",
       " 'State_Tennessee ............................................': -0.30443628301234715,\n",
       " 'State_Texas ...............................................................': 0.0,\n",
       " 'State_Utah ...............................................................': 0.0,\n",
       " 'State_Vermont .........................................................': -0.38679545338100396,\n",
       " 'State_Virginia .........................................................': 0.4293079819037315,\n",
       " 'State_Washington ...........................................': 0.0,\n",
       " 'State_West Virginia ..............................................': -0.2762681245733191,\n",
       " 'State_Wisconsin ............................................': 0.43240219018841913,\n",
       " 'State_Wyoming .................................................': 0.41851444700633755}"
      ]
     },
     "execution_count": 9,
     "metadata": {},
     "output_type": "execute_result"
    }
   ],
   "source": [
    "dict(zip(mod3.feature_names_in_, mod3.coef_[0]))"
   ]
  },
  {
   "cell_type": "code",
   "execution_count": 10,
   "id": "eddf0828",
   "metadata": {},
   "outputs": [
    {
     "name": "stdout",
     "output_type": "stream",
     "text": [
      "0.5625\n",
      "0.625\n"
     ]
    }
   ],
   "source": [
    "#Feature Importance W/ Logistic Regression\n",
    "\n",
    "#with computer only\n",
    "y = voter16['Label (>mean 0.872)']\n",
    "X = inter16.iloc[:,2:]\n",
    "\n",
    "X_train, X_test, y_train, y_test = train_test_split(X, y, test_size = .3, random_state = 1)\n",
    "\n",
    "mod4= LogisticRegression(random_state = 1, solver = 'liblinear').fit(X_train, y_train)\n",
    "print(y_test.mean())\n",
    "print(mod4.score(X_test, y_test))"
   ]
  },
  {
   "cell_type": "code",
   "execution_count": 11,
   "id": "1c97a030",
   "metadata": {},
   "outputs": [
    {
     "name": "stdout",
     "output_type": "stream",
     "text": [
      "0.5625\n",
      "0.625\n"
     ]
    }
   ],
   "source": [
    "#with internet access only\n",
    "y = voter16['Label (>mean 0.872)']\n",
    "X = inter16.iloc[:,3:]\n",
    "\n",
    "X_train, X_test, y_train, y_test = train_test_split(X, y, test_size = .3, random_state = 1)\n",
    "\n",
    "mod4= LogisticRegression(random_state = 1, solver = 'liblinear').fit(X_train, y_train)\n",
    "print(y_test.mean())\n",
    "print(mod4.score(X_test, y_test))"
   ]
  },
  {
   "cell_type": "code",
   "execution_count": 12,
   "id": "3122d698",
   "metadata": {},
   "outputs": [
    {
     "name": "stdout",
     "output_type": "stream",
     "text": [
      "0.5625\n",
      "0.4375\n"
     ]
    }
   ],
   "source": [
    "#with Poverty(2-year average) only\n",
    "y = voter16['Label (>mean 0.872)']\n",
    "X = inter16.iloc[:,4:]\n",
    "\n",
    "X_train, X_test, y_train, y_test = train_test_split(X, y, test_size = .3, random_state = 1)\n",
    "\n",
    "mod4= LogisticRegression(random_state = 1, solver = 'liblinear').fit(X_train, y_train)\n",
    "print(y_test.mean())\n",
    "print(mod4.score(X_test, y_test))\n"
   ]
  },
  {
   "cell_type": "code",
   "execution_count": 15,
   "id": "a8e6a73d",
   "metadata": {},
   "outputs": [
    {
     "name": "stdout",
     "output_type": "stream",
     "text": [
      "0.5625\n",
      "0.4375\n"
     ]
    }
   ],
   "source": [
    "#with Poverty(3-year average) only\n",
    "y = voter16['Label (>mean 0.872)']\n",
    "X = inter16.iloc[:,5:]\n",
    "\n",
    "X_train, X_test, y_train, y_test = train_test_split(X, y, test_size = .3, random_state = 1)\n",
    "\n",
    "mod4= LogisticRegression(random_state = 1, solver = 'liblinear').fit(X_train, y_train)\n",
    "print(y_test.mean())\n",
    "print(mod4.score(X_test, y_test))"
   ]
  },
  {
   "cell_type": "code",
   "execution_count": 16,
   "id": "7e6cd44e",
   "metadata": {},
   "outputs": [],
   "source": [
    "#Feature importance with Random Forest\n",
    "from sklearn.ensemble import RandomForestClassifier\n",
    "from sklearn.inspection import permutation_importance"
   ]
  },
  {
   "cell_type": "code",
   "execution_count": 17,
   "id": "edb83f8f",
   "metadata": {},
   "outputs": [
    {
     "data": {
      "text/plain": [
       "0.8125"
      ]
     },
     "execution_count": 17,
     "metadata": {},
     "output_type": "execute_result"
    }
   ],
   "source": [
    "# Full model\n",
    "y = voter16['Label (>mean 0.872)']\n",
    "X = inter16.iloc[:,1:]\n",
    "\n",
    "X_train, X_test, y_train, y_test = train_test_split(X, y, test_size = .3, random_state = 1)\n",
    "\n",
    "fullforest = RandomForestClassifier(random_state=0).fit(X_train, y_train)\n",
    "\n",
    "fullforest.score(X_test, y_test)"
   ]
  },
  {
   "cell_type": "code",
   "execution_count": 18,
   "id": "4f067dd2",
   "metadata": {},
   "outputs": [
    {
     "data": {
      "text/plain": [
       "0.75"
      ]
     },
     "execution_count": 18,
     "metadata": {},
     "output_type": "execute_result"
    }
   ],
   "source": [
    "#without poverty data\n",
    "y = voter16['Label (>mean 0.872)']\n",
    "X = inter16.iloc[:,1:3]\n",
    "\n",
    "X_train, X_test, y_train, y_test = train_test_split(X, y, test_size = .3, random_state = 1)\n",
    "\n",
    "interforest = RandomForestClassifier(random_state=0).fit(X_train, y_train)\n",
    "\n",
    "interforest.score(X_test, y_test)\n"
   ]
  },
  {
   "cell_type": "code",
   "execution_count": 19,
   "id": "7c4d36a8",
   "metadata": {},
   "outputs": [
    {
     "data": {
      "text/plain": [
       "0.4375"
      ]
     },
     "execution_count": 19,
     "metadata": {},
     "output_type": "execute_result"
    }
   ],
   "source": [
    "#without internet data\n",
    "y = voter16['Label (>mean 0.872)']\n",
    "X = inter16.iloc[:,4:5]\n",
    "\n",
    "X_train, X_test, y_train, y_test = train_test_split(X, y, test_size = .3, random_state = 1)\n",
    "\n",
    "povforest = RandomForestClassifier(random_state=0).fit(X_train, y_train)\n",
    "\n",
    "povforest.score(X_test, y_test)\n",
    "\n"
   ]
  },
  {
   "cell_type": "code",
   "execution_count": null,
   "id": "8e5d9667",
   "metadata": {},
   "outputs": [],
   "source": []
  }
 ],
 "metadata": {
  "kernelspec": {
   "display_name": "Python 3 (ipykernel)",
   "language": "python",
   "name": "python3"
  },
  "language_info": {
   "codemirror_mode": {
    "name": "ipython",
    "version": 3
   },
   "file_extension": ".py",
   "mimetype": "text/x-python",
   "name": "python",
   "nbconvert_exporter": "python",
   "pygments_lexer": "ipython3",
   "version": "3.9.13"
  }
 },
 "nbformat": 4,
 "nbformat_minor": 5
}
